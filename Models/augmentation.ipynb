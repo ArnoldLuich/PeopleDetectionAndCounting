{
  "nbformat": 4,
  "nbformat_minor": 0,
  "metadata": {
    "colab": {
      "provenance": []
    },
    "kernelspec": {
      "name": "python3",
      "display_name": "Python 3"
    },
    "language_info": {
      "name": "python"
    }
  },
  "cells": [
    {
      "cell_type": "code",
      "execution_count": null,
      "metadata": {
        "colab": {
          "base_uri": "https://localhost:8080/"
        },
        "id": "S55cueFFZKTv",
        "outputId": "7171d30f-45db-434b-ae7c-39e10b482f4a"
      },
      "outputs": [
        {
          "output_type": "stream",
          "name": "stdout",
          "text": [
            "Requirement already satisfied: albumentations in /usr/local/lib/python3.11/dist-packages (2.0.6)\n",
            "Requirement already satisfied: opencv-python in /usr/local/lib/python3.11/dist-packages (4.11.0.86)\n",
            "Requirement already satisfied: numpy>=1.24.4 in /usr/local/lib/python3.11/dist-packages (from albumentations) (2.0.2)\n",
            "Requirement already satisfied: scipy>=1.10.0 in /usr/local/lib/python3.11/dist-packages (from albumentations) (1.15.2)\n",
            "Requirement already satisfied: PyYAML in /usr/local/lib/python3.11/dist-packages (from albumentations) (6.0.2)\n",
            "Requirement already satisfied: pydantic>=2.9.2 in /usr/local/lib/python3.11/dist-packages (from albumentations) (2.11.3)\n",
            "Requirement already satisfied: albucore==0.0.24 in /usr/local/lib/python3.11/dist-packages (from albumentations) (0.0.24)\n",
            "Requirement already satisfied: opencv-python-headless>=4.9.0.80 in /usr/local/lib/python3.11/dist-packages (from albumentations) (4.11.0.86)\n",
            "Requirement already satisfied: stringzilla>=3.10.4 in /usr/local/lib/python3.11/dist-packages (from albucore==0.0.24->albumentations) (3.12.5)\n",
            "Requirement already satisfied: simsimd>=5.9.2 in /usr/local/lib/python3.11/dist-packages (from albucore==0.0.24->albumentations) (6.2.1)\n",
            "Requirement already satisfied: annotated-types>=0.6.0 in /usr/local/lib/python3.11/dist-packages (from pydantic>=2.9.2->albumentations) (0.7.0)\n",
            "Requirement already satisfied: pydantic-core==2.33.1 in /usr/local/lib/python3.11/dist-packages (from pydantic>=2.9.2->albumentations) (2.33.1)\n",
            "Requirement already satisfied: typing-extensions>=4.12.2 in /usr/local/lib/python3.11/dist-packages (from pydantic>=2.9.2->albumentations) (4.13.2)\n",
            "Requirement already satisfied: typing-inspection>=0.4.0 in /usr/local/lib/python3.11/dist-packages (from pydantic>=2.9.2->albumentations) (0.4.0)\n"
          ]
        }
      ],
      "source": [
        "# ✅ Step 1: Install dependencies\n",
        "!pip install albumentations opencv-python"
      ]
    },
    {
      "cell_type": "code",
      "source": [
        "# ✅ Step 2: Mount Google Drive\n",
        "from google.colab import drive\n",
        "drive.mount('/content/drive')"
      ],
      "metadata": {
        "id": "xhn2bzbAGKCV",
        "colab": {
          "base_uri": "https://localhost:8080/"
        },
        "outputId": "1d9fc172-0920-41aa-a9aa-4f2713b9e95b"
      },
      "execution_count": null,
      "outputs": [
        {
          "output_type": "stream",
          "name": "stdout",
          "text": [
            "Mounted at /content/drive\n"
          ]
        }
      ]
    },
    {
      "cell_type": "code",
      "source": [
        "# ✅ Step 3: Imports\n",
        "import os\n",
        "import cv2\n",
        "import albumentations as A\n",
        "import shutil"
      ],
      "metadata": {
        "id": "oVN5TctbGKKF"
      },
      "execution_count": null,
      "outputs": []
    },
    {
      "cell_type": "code",
      "source": [
        "# ✅ Step 4: Paths\n",
        "base_drive_path = \"/content/drive/MyDrive/Lõputöö Mudel\"\n",
        "input_img_folder = os.path.join(base_drive_path, \"data/images\")\n",
        "input_lbl_folder = os.path.join(base_drive_path, \"data/labels\")\n",
        "\n",
        "output_img_folder = os.path.join(base_drive_path, \"aug/images\")\n",
        "output_lbl_folder = os.path.join(base_drive_path, \"aug/labels\")\n",
        "os.makedirs(output_img_folder, exist_ok=True)\n",
        "os.makedirs(output_lbl_folder, exist_ok=True)"
      ],
      "metadata": {
        "id": "Ng_ruMf6GKSk"
      },
      "execution_count": null,
      "outputs": []
    },
    {
      "cell_type": "code",
      "source": [
        "# ✅ Step 5: Albumentations augmentation pipeline\n",
        "\n",
        "transform = A.Compose([\n",
        "    # Simulate camera drift or slight tilt as the drone moves\n",
        "    A.ShiftScaleRotate(\n",
        "        shift_limit=0.05,     # Small shifts, max ±5% of width/height\n",
        "        scale_limit=0.05,     # Tiny scale changes\n",
        "        rotate_limit=5,       # Slight rotations only (to simulate small tilts)\n",
        "        p=0.7\n",
        "    ),\n",
        "\n",
        "    # Horizontal flip is okay; vertical is usually unrealistic unless drone flips (unlikely)\n",
        "    A.HorizontalFlip(p=0.5),\n",
        "\n",
        "    # Simulate slight environmental noise from heat wave distortions or movement blur\n",
        "    A.MotionBlur(blur_limit=3, p=0.2),\n",
        "\n",
        "    # Rare distortions or image noise to simulate sensor artifacts\n",
        "    A.GaussNoise(var_limit=(5.0, 20.0), p=0.2),\n",
        "\n",
        "    # Slight brightness/contrast changes (thermal cameras can vary per frame)\n",
        "    A.RandomBrightnessContrast(\n",
        "        brightness_limit=0.05,\n",
        "        contrast_limit=0.05,\n",
        "        p=0.3\n",
        "    )\n",
        "], bbox_params=A.BboxParams(format='yolo', label_fields=['class_labels']))\n"
      ],
      "metadata": {
        "id": "tkCtG_bnGKe4",
        "colab": {
          "base_uri": "https://localhost:8080/"
        },
        "outputId": "a5b972ad-e576-47a9-c52c-b4488e7827a8"
      },
      "execution_count": null,
      "outputs": [
        {
          "output_type": "stream",
          "name": "stderr",
          "text": [
            "/usr/local/lib/python3.11/dist-packages/albumentations/core/validation.py:111: UserWarning: ShiftScaleRotate is a special case of Affine transform. Please use Affine transform instead.\n",
            "  original_init(self, **validated_kwargs)\n",
            "<ipython-input-5-24bcefe36177>:19: UserWarning: Argument(s) 'var_limit' are not valid for transform GaussNoise\n",
            "  A.GaussNoise(var_limit=(5.0, 20.0), p=0.2),\n"
          ]
        }
      ]
    },
    {
      "cell_type": "code",
      "source": [
        "# ✅ Step 6: Helper functions\n",
        "def load_yolo_labels(label_path):\n",
        "    boxes = []\n",
        "    class_labels = []\n",
        "    with open(label_path, 'r') as f:\n",
        "        for line in f:\n",
        "            parts = line.strip().split()\n",
        "            if len(parts) != 5:\n",
        "                continue\n",
        "            class_id = int(parts[0])\n",
        "            bbox = list(map(float, parts[1:]))\n",
        "            boxes.append(bbox)\n",
        "            class_labels.append(class_id)\n",
        "    return boxes, class_labels\n",
        "\n",
        "def save_yolo_labels(label_path, boxes, class_labels):\n",
        "    with open(label_path, 'w') as f:\n",
        "        for bbox, cls in zip(boxes, class_labels):\n",
        "            f.write(f\"{cls} {' '.join(f'{x:.6f}' for x in bbox)}\\n\")\n"
      ],
      "metadata": {
        "id": "JJaNolVIGKoW"
      },
      "execution_count": null,
      "outputs": []
    },
    {
      "cell_type": "code",
      "source": [
        "# ✅ Step 7: Augment and save images + labels\n",
        "for file in os.listdir(input_img_folder):\n",
        "    if not file.endswith(\".jpg\"):\n",
        "        continue\n",
        "\n",
        "    img_path = os.path.join(input_img_folder, file)\n",
        "    label_path = os.path.join(input_lbl_folder, file.replace(\".jpg\", \".txt\"))\n",
        "\n",
        "    image = cv2.imread(img_path)\n",
        "    if image is None:\n",
        "        continue\n",
        "\n",
        "    boxes, class_labels = load_yolo_labels(label_path)\n",
        "    if not boxes:\n",
        "        continue\n",
        "\n",
        "    # Apply augmentation\n",
        "    transformed = transform(image=image, bboxes=boxes, class_labels=class_labels)\n",
        "    aug_img = transformed['image']\n",
        "    aug_boxes = transformed['bboxes']\n",
        "    aug_labels = transformed['class_labels']\n",
        "\n",
        "    # Save augmented image and label\n",
        "    aug_img_path = os.path.join(output_img_folder, f\"aug_{file}\")\n",
        "    aug_lbl_path = os.path.join(output_lbl_folder, f\"aug_{file.replace('.jpg', '.txt')}\")\n",
        "\n",
        "    cv2.imwrite(aug_img_path, aug_img)\n",
        "    save_yolo_labels(aug_lbl_path, aug_boxes, aug_labels)\n",
        "\n",
        "print(\"✅ Augmented images created.\")"
      ],
      "metadata": {
        "id": "kfDdLXCWGKxY",
        "colab": {
          "base_uri": "https://localhost:8080/"
        },
        "outputId": "d10857fc-086a-4db0-f5da-6204f29cd567"
      },
      "execution_count": null,
      "outputs": [
        {
          "output_type": "stream",
          "name": "stdout",
          "text": [
            "✅ Augmented images created.\n"
          ]
        }
      ]
    },
    {
      "cell_type": "code",
      "source": [
        "# ✅ Step 8: Copy original data to the same output folders\n",
        "for file in os.listdir(input_img_folder):\n",
        "    if file.endswith(\".jpg\"):\n",
        "        shutil.copy2(os.path.join(input_img_folder, file),\n",
        "                     os.path.join(output_img_folder, file))\n",
        "\n",
        "for file in os.listdir(input_lbl_folder):\n",
        "    if file.endswith(\".txt\"):\n",
        "        shutil.copy2(os.path.join(input_lbl_folder, file),\n",
        "                     os.path.join(output_lbl_folder, file))\n",
        "\n",
        "print(\"✅ Original images and labels copied.\")\n",
        "print(\"✅ Final dataset is ready in Google Drive.\")"
      ],
      "metadata": {
        "colab": {
          "base_uri": "https://localhost:8080/"
        },
        "id": "KSN8nELK1nuM",
        "outputId": "36c3691d-11bd-4479-c0e6-a577feabce7a"
      },
      "execution_count": null,
      "outputs": [
        {
          "output_type": "stream",
          "name": "stdout",
          "text": [
            "✅ Original images and labels copied.\n",
            "✅ Final dataset is ready in Google Drive.\n"
          ]
        }
      ]
    },
    {
      "cell_type": "code",
      "source": [
        "# prompt: get how many images in the aug folder\n",
        "\n",
        "import os\n",
        "\n",
        "aug_image_folder = \"/content/drive/MyDrive/Lõputöö Mudel/aug/images\"\n",
        "image_count = len([f for f in os.listdir(aug_image_folder) if os.path.isfile(os.path.join(aug_image_folder, f))])\n",
        "print(f\"Number of images in the 'aug/images' folder: {image_count}\")\n"
      ],
      "metadata": {
        "colab": {
          "base_uri": "https://localhost:8080/"
        },
        "id": "a0-MifUViVkq",
        "outputId": "258f80cb-4de0-47aa-e872-1e300eacd36e"
      },
      "execution_count": null,
      "outputs": [
        {
          "output_type": "stream",
          "name": "stdout",
          "text": [
            "Number of images in the 'aug/images' folder: 11451\n"
          ]
        }
      ]
    }
  ]
}