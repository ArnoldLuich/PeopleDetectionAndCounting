{
  "nbformat": 4,
  "nbformat_minor": 0,
  "metadata": {
    "colab": {
      "provenance": [],
      "gpuType": "T4"
    },
    "kernelspec": {
      "name": "python3",
      "display_name": "Python 3"
    },
    "language_info": {
      "name": "python"
    },
    "accelerator": "GPU"
  },
  "cells": [
    {
      "cell_type": "code",
      "execution_count": null,
      "metadata": {
        "colab": {
          "base_uri": "https://localhost:8080/"
        },
        "id": "-AWawCUYzkFS",
        "outputId": "05a9928f-bdaf-44d7-c4e5-be9162614d64"
      },
      "outputs": [
        {
          "output_type": "stream",
          "name": "stdout",
          "text": [
            "Mounted at /content/drive/\n"
          ]
        }
      ],
      "source": [
        "# Optional: Mount Google Drive\n",
        "from google.colab import drive\n",
        "drive.mount('/content/drive/')\n"
      ]
    },
    {
      "cell_type": "code",
      "source": [
        "import os\n",
        "import shutil\n",
        "import random\n",
        "\n",
        "# Set source paths (update if needed)\n",
        "images_dir = '/content/drive/MyDrive/Lõputöö Mudel/aug/images'   # Replace with your path\n",
        "labels_dir = '/content/drive/MyDrive/Lõputöö Mudel/aug/labels'   # Replace with your path\n",
        "\n",
        "# Set target output folders\n",
        "train_images_dir = '/content/drive/MyDrive/Lõputöö Mudel/train/images'\n",
        "train_labels_dir = '/content/drive/MyDrive/Lõputöö Mudel/train/labels'\n",
        "val_images_dir = '/content/drive/MyDrive/Lõputöö Mudel/val/images'\n",
        "val_labels_dir = '/content/drive/MyDrive/Lõputöö Mudel/val/labels'\n",
        "\n",
        "# Create target directories\n",
        "for d in [train_images_dir, train_labels_dir, val_images_dir, val_labels_dir]:\n",
        "    os.makedirs(d, exist_ok=True)\n",
        "\n",
        "# List all image files\n",
        "image_files = [f for f in os.listdir(images_dir) if f.lower().endswith(('.jpg', '.jpeg', '.png'))]\n",
        "random.shuffle(image_files)\n",
        "\n",
        "# Split 80% train, 20% val\n",
        "split_index = int(len(image_files) * 0.8)\n",
        "train_files = image_files[:split_index]\n",
        "val_files = image_files[split_index:]\n",
        "\n",
        "# Helper function to copy image and corresponding label\n",
        "def copy_files(files, img_src, lbl_src, img_dst, lbl_dst):\n",
        "    for f in files:\n",
        "        base = os.path.splitext(f)[0]\n",
        "        img_path = os.path.join(img_src, f)\n",
        "        lbl_path = os.path.join(lbl_src, f'{base}.txt')\n",
        "\n",
        "        if os.path.exists(img_path) and os.path.exists(lbl_path):\n",
        "            shutil.copy(img_path, os.path.join(img_dst, f))\n",
        "            shutil.copy(lbl_path, os.path.join(lbl_dst, f'{base}.txt'))\n",
        "        else:\n",
        "            print(f'Skipped: {f} (missing image or label)')\n",
        "\n",
        "# Copy files to new directories\n",
        "copy_files(train_files, images_dir, labels_dir, train_images_dir, train_labels_dir)\n",
        "copy_files(val_files, images_dir, labels_dir, val_images_dir, val_labels_dir)\n",
        "\n",
        "print(f\"✅ Split done! {len(train_files)} training and {len(val_files)} validation samples.\")"
      ],
      "metadata": {
        "colab": {
          "base_uri": "https://localhost:8080/"
        },
        "id": "Qhg-a72Lz08L",
        "outputId": "fa9b7817-54fd-45d4-9573-b09576d83514"
      },
      "execution_count": null,
      "outputs": [
        {
          "output_type": "stream",
          "name": "stdout",
          "text": [
            "✅ Split done! 9160 training and 2291 validation samples.\n"
          ]
        }
      ]
    },
    {
      "cell_type": "markdown",
      "source": [
        "Just split data"
      ],
      "metadata": {
        "id": "vx_v0C6gRnZJ"
      }
    },
    {
      "cell_type": "code",
      "source": [
        "import os\n",
        "import shutil\n",
        "import random\n",
        "\n",
        "# Set source paths\n",
        "images_dir = '/content/drive/MyDrive/Lõputöö Mudel/data/images'\n",
        "labels_dir = '/content/drive/MyDrive/Lõputöö Mudel/data/labels'\n",
        "\n",
        "# Set output directories\n",
        "train_images_dir = '/content/drive/MyDrive/Lõputöö Mudel/data/split/train/images'\n",
        "train_labels_dir = '/content/drive/MyDrive/Lõputöö Mudel/data/split/train/labels'\n",
        "val_images_dir = '/content/drive/MyDrive/Lõputöö Mudel/data/split/val/images'\n",
        "val_labels_dir = '/content/drive/MyDrive/Lõputöö Mudel/data/split/val/labels'\n",
        "\n",
        "# Create output directories if they don't exist\n",
        "for d in [train_images_dir, train_labels_dir, val_images_dir, val_labels_dir]:\n",
        "    os.makedirs(d, exist_ok=True)\n",
        "\n",
        "# Collect valid image files (with corresponding label)\n",
        "image_files = [\n",
        "    f for f in os.listdir(images_dir)\n",
        "    if f.lower().endswith(('.jpg', '.jpeg', '.png')) and\n",
        "    os.path.exists(os.path.join(labels_dir, os.path.splitext(f)[0] + '.txt'))\n",
        "]\n",
        "\n",
        "random.shuffle(image_files)\n",
        "\n",
        "# Split into 80% train, 20% val\n",
        "split_index = int(len(image_files) * 0.8)\n",
        "train_files = image_files[:split_index]\n",
        "val_files = image_files[split_index:]\n",
        "\n",
        "# Function to copy files\n",
        "def copy_files(files, src_img, src_lbl, dst_img, dst_lbl):\n",
        "    for file in files:\n",
        "        name, _ = os.path.splitext(file)\n",
        "        src_img_path = os.path.join(src_img, file)\n",
        "        src_lbl_path = os.path.join(src_lbl, name + '.txt')\n",
        "        shutil.copy(src_img_path, os.path.join(dst_img, file))\n",
        "        shutil.copy(src_lbl_path, os.path.join(dst_lbl, name + '.txt'))\n",
        "\n",
        "# Copy training and validation sets\n",
        "copy_files(train_files, images_dir, labels_dir, train_images_dir, train_labels_dir)\n",
        "copy_files(val_files, images_dir, labels_dir, val_images_dir, val_labels_dir)\n",
        "\n",
        "print(f\"✅ Done: {len(train_files)} training and {len(val_files)} validation samples.\")\n"
      ],
      "metadata": {
        "colab": {
          "base_uri": "https://localhost:8080/"
        },
        "id": "Hkz_Xq_uRmHK",
        "outputId": "1efedc13-56f5-49b3-fc0d-cce755557f73"
      },
      "execution_count": null,
      "outputs": [
        {
          "output_type": "stream",
          "name": "stdout",
          "text": [
            "✅ Done: 5620 training and 1406 validation samples.\n"
          ]
        }
      ]
    }
  ]
}